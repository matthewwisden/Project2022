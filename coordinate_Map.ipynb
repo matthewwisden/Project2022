{
 "cells": [
  {
   "cell_type": "code",
   "execution_count": 1,
   "id": "afbeb1d7",
   "metadata": {},
   "outputs": [
    {
     "ename": "ModuleNotFoundError",
     "evalue": "No module named 'highlight_text'",
     "output_type": "error",
     "traceback": [
      "\u001b[1;31m---------------------------------------------------------------------------\u001b[0m",
      "\u001b[1;31mModuleNotFoundError\u001b[0m                       Traceback (most recent call last)",
      "\u001b[1;32m~\\AppData\\Local\\Temp/ipykernel_8128/3073099748.py\u001b[0m in \u001b[0;36m<module>\u001b[1;34m\u001b[0m\n\u001b[0;32m      4\u001b[0m \u001b[1;32mfrom\u001b[0m \u001b[0mmplsoccer\u001b[0m\u001b[1;33m.\u001b[0m\u001b[0mpitch\u001b[0m \u001b[1;32mimport\u001b[0m \u001b[0mPitch\u001b[0m\u001b[1;33m\u001b[0m\u001b[1;33m\u001b[0m\u001b[0m\n\u001b[0;32m      5\u001b[0m \u001b[1;32mfrom\u001b[0m \u001b[0mscipy\u001b[0m\u001b[1;33m.\u001b[0m\u001b[0mspatial\u001b[0m \u001b[1;32mimport\u001b[0m \u001b[0mVoronoi\u001b[0m\u001b[1;33m,\u001b[0m \u001b[0mvoronoi_plot_2d\u001b[0m\u001b[1;33m\u001b[0m\u001b[1;33m\u001b[0m\u001b[0m\n\u001b[1;32m----> 6\u001b[1;33m \u001b[1;32mimport\u001b[0m \u001b[0mhighlight_text\u001b[0m\u001b[1;33m\u001b[0m\u001b[1;33m\u001b[0m\u001b[0m\n\u001b[0m",
      "\u001b[1;31mModuleNotFoundError\u001b[0m: No module named 'highlight_text'"
     ]
    }
   ],
   "source": [
    "import pandas as pd\n",
    "import numpy as np\n",
    "import matplotlib.pyplot as plt\n",
    "from mplsoccer.pitch import Pitch\n",
    "from scipy.spatial import Voronoi, voronoi_plot_2d\n",
    "import highlight_text"
   ]
  },
  {
   "cell_type": "code",
   "execution_count": 2,
   "id": "c7426b16",
   "metadata": {},
   "outputs": [],
   "source": [
    "import matplotlib.font_manager\n",
    "from IPython.core.display import HTML\n",
    "\n",
    "def make_html(fontname):\n",
    "    return \"<p>{font}: <span style='font-family:{font}; font-size: 24px;'>{font}</p>\".format(font=fontname)\n",
    "\n",
    "code = \"\\n\".join([make_html(font) for font in sorted(set([f.name for f in matplotlib.font_manager.fontManager.ttflist]))])"
   ]
  },
  {
   "cell_type": "code",
   "execution_count": 3,
   "id": "7fb7d2e4",
   "metadata": {},
   "outputs": [],
   "source": [
    "ateam_x=[93,96,99,102,104,95,86,79,89]\n",
    "ateam_y=[9,22,33,44,56,63,52,33,22]\n",
    "ateam = list(np.zeros((9,),dtype=int))\n",
    "\n",
    "bteam_x=[99,100,102,104,104,102,97,98,94,77]\n",
    "bteam_y=[14,22,33,43,46,55,37,27,21,45]\n",
    "bteam = list(np.ones((10,),dtype=int))\n",
    "\n",
    "df = pd.DataFrame({\n",
    "    'x':ateam_x+bteam_x,\n",
    "    'y':ateam_y+bteam_y,\n",
    "    'team':ateam+bteam\n",
    "})"
   ]
  },
  {
   "cell_type": "code",
   "execution_count": 4,
   "id": "2f7587fb",
   "metadata": {},
   "outputs": [
    {
     "data": {
      "text/plain": [
       "<matplotlib.collections.PathCollection at 0x1d23de815e0>"
      ]
     },
     "execution_count": 4,
     "metadata": {},
     "output_type": "execute_result"
    },
    {
     "data": {
      "image/png": "[encoded data removed]",
      "text/plain": [
       "<Figure size 936x612 with 1 Axes>"
      ]
     },
     "metadata": {},
     "output_type": "display_data"
    }
   ],
   "source": [
    "fig, ax = plt.subplots(figsize=(13,8.5))\n",
    "fig.set_facecolor('#38383b')\n",
    "ax.patch.set_facecolor('#38383b')\n",
    "\n",
    "pitch = Pitch(pitch_type='statsbomb', orientation='horizontal',\n",
    "              pitch_color='#38383b', line_color='#c7d5cc', figsize=(13, 8),\n",
    "              constrained_layout=False, tight_layout=True, view='half',axis=True,label=True,tick=True)\n",
    "\n",
    "pitch.draw(ax=ax)\n",
    "\n",
    "pitch.scatter(89,22,ax=ax)"
   ]
  },
  {
   "cell_type": "code",
   "execution_count": 5,
   "id": "83223e20",
   "metadata": {},
   "outputs": [
    {
     "data": {
      "text/html": [
       "<div>\n",
       "<style scoped>\n",
       "    .dataframe tbody tr th:only-of-type {\n",
       "        vertical-align: middle;\n",
       "    }\n",
       "\n",
       "    .dataframe tbody tr th {\n",
       "        vertical-align: top;\n",
       "    }\n",
       "\n",
       "    .dataframe thead th {\n",
       "        text-align: right;\n",
       "    }\n",
       "</style>\n",
       "<table border=\"1\" class=\"dataframe\">\n",
       "  <thead>\n",
       "    <tr style=\"text-align: right;\">\n",
       "      <th></th>\n",
       "      <th>x</th>\n",
       "      <th>y</th>\n",
       "      <th>team</th>\n",
       "    </tr>\n",
       "  </thead>\n",
       "  <tbody>\n",
       "    <tr>\n",
       "      <th>0</th>\n",
       "      <td>93</td>\n",
       "      <td>9</td>\n",
       "      <td>0</td>\n",
       "    </tr>\n",
       "    <tr>\n",
       "      <th>1</th>\n",
       "      <td>96</td>\n",
       "      <td>22</td>\n",
       "      <td>0</td>\n",
       "    </tr>\n",
       "    <tr>\n",
       "      <th>2</th>\n",
       "      <td>99</td>\n",
       "      <td>33</td>\n",
       "      <td>0</td>\n",
       "    </tr>\n",
       "    <tr>\n",
       "      <th>3</th>\n",
       "      <td>102</td>\n",
       "      <td>44</td>\n",
       "      <td>0</td>\n",
       "    </tr>\n",
       "    <tr>\n",
       "      <th>4</th>\n",
       "      <td>104</td>\n",
       "      <td>56</td>\n",
       "      <td>0</td>\n",
       "    </tr>\n",
       "    <tr>\n",
       "      <th>5</th>\n",
       "      <td>95</td>\n",
       "      <td>63</td>\n",
       "      <td>0</td>\n",
       "    </tr>\n",
       "    <tr>\n",
       "      <th>6</th>\n",
       "      <td>86</td>\n",
       "      <td>52</td>\n",
       "      <td>0</td>\n",
       "    </tr>\n",
       "    <tr>\n",
       "      <th>7</th>\n",
       "      <td>79</td>\n",
       "      <td>33</td>\n",
       "      <td>0</td>\n",
       "    </tr>\n",
       "    <tr>\n",
       "      <th>8</th>\n",
       "      <td>89</td>\n",
       "      <td>22</td>\n",
       "      <td>0</td>\n",
       "    </tr>\n",
       "    <tr>\n",
       "      <th>9</th>\n",
       "      <td>99</td>\n",
       "      <td>14</td>\n",
       "      <td>1</td>\n",
       "    </tr>\n",
       "    <tr>\n",
       "      <th>10</th>\n",
       "      <td>100</td>\n",
       "      <td>22</td>\n",
       "      <td>1</td>\n",
       "    </tr>\n",
       "    <tr>\n",
       "      <th>11</th>\n",
       "      <td>102</td>\n",
       "      <td>33</td>\n",
       "      <td>1</td>\n",
       "    </tr>\n",
       "    <tr>\n",
       "      <th>12</th>\n",
       "      <td>104</td>\n",
       "      <td>43</td>\n",
       "      <td>1</td>\n",
       "    </tr>\n",
       "    <tr>\n",
       "      <th>13</th>\n",
       "      <td>104</td>\n",
       "      <td>46</td>\n",
       "      <td>1</td>\n",
       "    </tr>\n",
       "    <tr>\n",
       "      <th>14</th>\n",
       "      <td>102</td>\n",
       "      <td>55</td>\n",
       "      <td>1</td>\n",
       "    </tr>\n",
       "    <tr>\n",
       "      <th>15</th>\n",
       "      <td>97</td>\n",
       "      <td>37</td>\n",
       "      <td>1</td>\n",
       "    </tr>\n",
       "    <tr>\n",
       "      <th>16</th>\n",
       "      <td>98</td>\n",
       "      <td>27</td>\n",
       "      <td>1</td>\n",
       "    </tr>\n",
       "    <tr>\n",
       "      <th>17</th>\n",
       "      <td>94</td>\n",
       "      <td>21</td>\n",
       "      <td>1</td>\n",
       "    </tr>\n",
       "    <tr>\n",
       "      <th>18</th>\n",
       "      <td>77</td>\n",
       "      <td>45</td>\n",
       "      <td>1</td>\n",
       "    </tr>\n",
       "  </tbody>\n",
       "</table>\n",
       "</div>"
      ],
      "text/plain": [
       "      x   y  team\n",
       "0    93   9     0\n",
       "1    96  22     0\n",
       "2    99  33     0\n",
       "3   102  44     0\n",
       "4   104  56     0\n",
       "5    95  63     0\n",
       "6    86  52     0\n",
       "7    79  33     0\n",
       "8    89  22     0\n",
       "9    99  14     1\n",
       "10  100  22     1\n",
       "11  102  33     1\n",
       "12  104  43     1\n",
       "13  104  46     1\n",
       "14  102  55     1\n",
       "15   97  37     1\n",
       "16   98  27     1\n",
       "17   94  21     1\n",
       "18   77  45     1"
      ]
     },
     "execution_count": 5,
     "metadata": {},
     "output_type": "execute_result"
    }
   ],
   "source": [
    "df"
   ]
  },
  {
   "cell_type": "code",
   "execution_count": 6,
   "id": "4979cc15",
   "metadata": {},
   "outputs": [],
   "source": [
    "points=np.column_stack((df.x,df.y))"
   ]
  },
  {
   "cell_type": "code",
   "execution_count": 7,
   "id": "344f599a",
   "metadata": {},
   "outputs": [
    {
     "ename": "NameError",
     "evalue": "name 'highlight_text' is not defined",
     "output_type": "error",
     "traceback": [
      "\u001b[1;31m---------------------------------------------------------------------------\u001b[0m",
      "\u001b[1;31mNameError\u001b[0m                                 Traceback (most recent call last)",
      "\u001b[1;32m~\\AppData\\Local\\Temp/ipykernel_8128/2165145702.py\u001b[0m in \u001b[0;36m<module>\u001b[1;34m\u001b[0m\n\u001b[0;32m     28\u001b[0m \u001b[1;33m\u001b[0m\u001b[0m\n\u001b[0;32m     29\u001b[0m \u001b[0ms\u001b[0m\u001b[1;33m=\u001b[0m\u001b[1;34m'<Team B> vs <Team A>'\u001b[0m\u001b[1;33m\u001b[0m\u001b[1;33m\u001b[0m\u001b[0m\n\u001b[1;32m---> 30\u001b[1;33m highlight_text.fig_text(s=s,x=.32, y=.87, \n\u001b[0m\u001b[0;32m     31\u001b[0m                         \u001b[0mfontfamily\u001b[0m\u001b[1;33m=\u001b[0m\u001b[1;34m'Andale Mono'\u001b[0m\u001b[1;33m,\u001b[0m \u001b[0mhighlight_weights\u001b[0m\u001b[1;33m=\u001b[0m\u001b[1;33m[\u001b[0m\u001b[1;34m'bold'\u001b[0m\u001b[1;33m]\u001b[0m\u001b[1;33m,\u001b[0m \u001b[0mfontsize\u001b[0m\u001b[1;33m=\u001b[0m\u001b[1;36m24\u001b[0m\u001b[1;33m,\u001b[0m \u001b[0mcolor\u001b[0m\u001b[1;33m=\u001b[0m\u001b[1;34m'white'\u001b[0m\u001b[1;33m,\u001b[0m\u001b[1;33m\u001b[0m\u001b[1;33m\u001b[0m\u001b[0m\n\u001b[0;32m     32\u001b[0m                         highlight_colors=['#c34c45','#6f63c5'])\n",
      "\u001b[1;31mNameError\u001b[0m: name 'highlight_text' is not defined"
     ]
    },
    {
     "name": "stderr",
     "output_type": "stream",
     "text": [
      "findfont: Font family ['Andale Mono'] not found. Falling back to DejaVu Sans.\n"
     ]
    },
    {
     "data": {
      "image/png": "[encoded data removed]",
      "text/plain": [
       "<Figure size 936x612 with 1 Axes>"
      ]
     },
     "metadata": {},
     "output_type": "display_data"
    }
   ],
   "source": [
    "fig, ax = plt.subplots(figsize=(13,8.5))\n",
    "fig.set_facecolor('#38383b')\n",
    "ax.patch.set_facecolor('#38383b')\n",
    "\n",
    "#The statsbomb pitch from mplsoccer\n",
    "pitch = Pitch(pitch_type='statsbomb', orientation='vertical',\n",
    "              pitch_color='#38383b', line_color='#c7d5cc', figsize=(13, 8),\n",
    "              constrained_layout=False, tight_layout=True, view='half')\n",
    "\n",
    "pitch.draw(ax=ax)\n",
    "\n",
    "x=df.x\n",
    "y=df.y\n",
    "team1,team2 = pitch.voronoi(x,y,df.team)\n",
    "\n",
    "t1 = pitch.polygon(team1, ax=ax, fc='#c34c45', ec='white', lw=3, alpha=0.4)\n",
    "t2 = pitch.polygon(team2, ax=ax, fc='#6f63c5', ec='white', lw=3, alpha=0.4)\n",
    "\n",
    "# Plot players\n",
    "for i in range(len(df['x'])):\n",
    "    if df['team'][i]==0:\n",
    "        pitch.scatter(df['x'][i],df['y'][i],ax=ax,color='blue')\n",
    "    if df['team'][i]==1:\n",
    "        pitch.scatter(df['x'][i],df['y'][i],ax=ax,color='red')\n",
    "        \n",
    "\n",
    "fig.text(x=.22,y=.1,s='Matthew Wisden',fontstyle='italic',fontsize=9,fontfamily='Andale Mono',color='white')\n",
    "\n",
    "s='<Team B> vs <Team A>'\n",
    "highlight_text.fig_text(s=s,x=.32, y=.87, \n",
    "                        fontfamily='Andale Mono', highlight_weights=['bold'], fontsize=24, color='white', \n",
    "                        highlight_colors=['#c34c45','#6f63c5'])\n"
   ]
  },
  {
   "cell_type": "code",
   "execution_count": null,
   "id": "9fa76b61",
   "metadata": {},
   "outputs": [],
   "source": []
  },
  {
   "cell_type": "code",
   "execution_count": null,
   "id": "eb14b9c8",
   "metadata": {},
   "outputs": [],
   "source": []
  }
 ],
 "metadata": {
  "kernelspec": {
   "display_name": "Python 3 (ipykernel)",
   "language": "python",
   "name": "python3"
  },
  "language_info": {
   "codemirror_mode": {
    "name": "ipython",
    "version": 3
   },
   "file_extension": ".py",
   "mimetype": "text/x-python",
   "name": "python",
   "nbconvert_exporter": "python",
   "pygments_lexer": "ipython3",
   "version": "3.9.7"
  }
 },
 "nbformat": 4,
 "nbformat_minor": 5
}
